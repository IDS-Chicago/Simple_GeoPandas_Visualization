{
  "nbformat": 4,
  "nbformat_minor": 0,
  "metadata": {
    "colab": {
      "name": "Simple_GeoPandas_Visualization.ipynb",
      "provenance": [],
      "collapsed_sections": []
    },
    "kernelspec": {
      "name": "python3",
      "display_name": "Python 3"
    },
    "language_info": {
      "name": "python"
    }
  },
  "cells": [
    {
      "cell_type": "code",
      "metadata": {
        "id": "LhouaSiXTODT"
      },
      "source": [
        "pip install geopandas"
      ],
      "execution_count": null,
      "outputs": []
    },
    {
      "cell_type": "code",
      "metadata": {
        "id": "EF6LpeSrC-Us"
      },
      "source": [
        "#Import pandas\n",
        "import pandas as pd\n",
        "\n",
        "#Import packages\n",
        "\n",
        "import matplotlib.pyplot as plt\n",
        "import descartes\n",
        "import geopandas as gpd\n",
        "from shapely.geometry import Point, Polygon"
      ],
      "execution_count": null,
      "outputs": []
    },
    {
      "cell_type": "code",
      "metadata": {
        "id": "baszAso6qXcJ"
      },
      "source": [
        "#Import data using GitHub url\n",
        "url = 'https://raw.githubusercontent.com/RAWDATA'\n",
        "\n",
        "#Convert CSV to Data Frame\n",
        "df1 = pd.read_csv(url)\n",
        "\n",
        "#Examine dataset\n",
        "df1.head()"
      ],
      "execution_count": null,
      "outputs": []
    },
    {
      "cell_type": "code",
      "metadata": {
        "id": "d0tv3jGWBIsa"
      },
      "source": [
        "#Examine columns\n",
        "df1.columns"
      ],
      "execution_count": null,
      "outputs": []
    },
    {
      "cell_type": "code",
      "metadata": {
        "id": "qIecJEYvehPT"
      },
      "source": [
        "#Create new dataframe with latitude and longitude for plotting\n",
        "\n",
        "crimeloc = df1[['LATITUDE', 'LONGITUDE']]\n",
        "crimeloc.head()"
      ],
      "execution_count": null,
      "outputs": []
    },
    {
      "cell_type": "code",
      "metadata": {
        "id": "HwXFc51-HuzN"
      },
      "source": [
        "#Assign variable to each row to create instance of occurrence\n",
        "crimeloc2['Crime Occurred']=1\n",
        "crimeloc2.head()"
      ],
      "execution_count": null,
      "outputs": []
    },
    {
      "cell_type": "code",
      "metadata": {
        "id": "BZSrSC5KeXTs"
      },
      "source": [
        "#To create our GeoDataFrame we use a function to transform Longitude and Latitude into a list of points set in a space and set it as a new column named geometry.\n",
        "gdf1 = gpd.GeoDataFrame(\n",
        "crimeloc2, geometry=gpd.points_from_xy(crimeloc2.LONGITUDE, crimeloc2.LATITUDE))\n",
        "gdf1.head()"
      ],
      "execution_count": null,
      "outputs": []
    },
    {
      "cell_type": "code",
      "metadata": {
        "id": "99DzEkguepMM"
      },
      "source": [
        "#Mount Drive if using google colab - Run as is do not change code\n",
        "from google.colab import drive\n",
        "drive.mount('/content/drive')"
      ],
      "execution_count": null,
      "outputs": []
    },
    {
      "cell_type": "code",
      "metadata": {
        "id": "XvkrGhJJfels"
      },
      "source": [
        "#Read In Shape File\n",
        "chi_map = gpd.read_file('/content/drive/MyDrive/.shp file)"
      ],
      "execution_count": null,
      "outputs": []
    },
    {
      "cell_type": "code",
      "metadata": {
        "id": "Kw9EtW5EFUnD"
      },
      "source": [
        "#Import and set coordinate reference system \n",
        "from pyproj import CRS\n",
        "\n",
        "#Registry used for mapping lat and long coordinates\n",
        "crs=CRS('EPSG:4326')"
      ],
      "execution_count": null,
      "outputs": []
    },
    {
      "cell_type": "code",
      "metadata": {
        "id": "chMSmjCbVC66"
      },
      "source": [
        "# Initialize figure and subplot axes\n",
        "fig,ax = plt.subplots(figsize = (15,15))\n",
        "\n",
        "#Shapefile\n",
        "chi_map.plot(ax=ax) #color = 'grey')\n",
        "\n",
        "#Indicates each instance\n",
        "gdf1[gdf1['Crime Occured'] ==1].plot(ax=ax, markersize = 20, color = 'black', marker = 'o', label ='Crime Instance')\n",
        "\n",
        "#Creates legend\n",
        "plt.legend(prop={'size': 20}"
      ],
      "execution_count": null,
      "outputs": []
    }
  ]
}